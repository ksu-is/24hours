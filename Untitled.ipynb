{
 "cells": [
  {
   "cell_type": "code",
   "execution_count": 21,
   "id": "5728760e-e54a-4e8c-9ebf-df1f95dac76e",
   "metadata": {},
   "outputs": [],
   "source": [
    "# This is a comment. \n",
    "\n",
    "import pandas as pd\n",
    "import numpy as np\n",
    "import scipy.stats as scipy\n",
    "\n",
    "# It's easiest to import a data file that is saved on your computer (rather than online).\n",
    "\n",
    "penn = pd.read_excel(\"pennstate2 Fall23.xlsx\")"
   ]
  },
  {
   "cell_type": "code",
   "execution_count": 23,
   "id": "be130b2f-b8bd-485a-b563-8111830b850b",
   "metadata": {},
   "outputs": [
    {
     "data": {
      "text/html": [
       "<div>\n",
       "<style scoped>\n",
       "    .dataframe tbody tr th:only-of-type {\n",
       "        vertical-align: middle;\n",
       "    }\n",
       "\n",
       "    .dataframe tbody tr th {\n",
       "        vertical-align: top;\n",
       "    }\n",
       "\n",
       "    .dataframe thead th {\n",
       "        text-align: right;\n",
       "    }\n",
       "</style>\n",
       "<table border=\"1\" class=\"dataframe\">\n",
       "  <thead>\n",
       "    <tr style=\"text-align: right;\">\n",
       "      <th></th>\n",
       "      <th>Gender</th>\n",
       "      <th>Tattoo</th>\n",
       "      <th>CDs</th>\n",
       "      <th>Height</th>\n",
       "      <th>EarPrc</th>\n",
       "    </tr>\n",
       "  </thead>\n",
       "  <tbody>\n",
       "    <tr>\n",
       "      <th>195</th>\n",
       "      <td>Female</td>\n",
       "      <td>No</td>\n",
       "      <td>BelowAvg</td>\n",
       "      <td>68.0</td>\n",
       "      <td>6</td>\n",
       "    </tr>\n",
       "    <tr>\n",
       "      <th>196</th>\n",
       "      <td>Male</td>\n",
       "      <td>No</td>\n",
       "      <td>Average</td>\n",
       "      <td>71.0</td>\n",
       "      <td>4</td>\n",
       "    </tr>\n",
       "    <tr>\n",
       "      <th>197</th>\n",
       "      <td>Male</td>\n",
       "      <td>No</td>\n",
       "      <td>Average</td>\n",
       "      <td>70.0</td>\n",
       "      <td>0</td>\n",
       "    </tr>\n",
       "    <tr>\n",
       "      <th>198</th>\n",
       "      <td>Male</td>\n",
       "      <td>No</td>\n",
       "      <td>BelowAvg</td>\n",
       "      <td>69.0</td>\n",
       "      <td>0</td>\n",
       "    </tr>\n",
       "    <tr>\n",
       "      <th>199</th>\n",
       "      <td>Female</td>\n",
       "      <td>No</td>\n",
       "      <td>Average</td>\n",
       "      <td>64.0</td>\n",
       "      <td>5</td>\n",
       "    </tr>\n",
       "  </tbody>\n",
       "</table>\n",
       "</div>"
      ],
      "text/plain": [
       "     Gender Tattoo       CDs  Height  EarPrc\n",
       "195  Female     No  BelowAvg    68.0       6\n",
       "196    Male     No   Average    71.0       4\n",
       "197    Male     No   Average    70.0       0\n",
       "198    Male     No  BelowAvg    69.0       0\n",
       "199  Female     No   Average    64.0       5"
      ]
     },
     "execution_count": 23,
     "metadata": {},
     "output_type": "execute_result"
    }
   ],
   "source": [
    "penn.tail()"
   ]
  },
  {
   "cell_type": "code",
   "execution_count": 192,
   "id": "19ac5da1-13a4-4ba8-8e0f-90951db4c034",
   "metadata": {},
   "outputs": [
    {
     "name": "stdout",
     "output_type": "stream",
     "text": [
      "    Label  General Type Specific Type Measurement Units\n",
      "0  Gender   Categorical       Nominal               N/A\n",
      "1  Tattoo   Categorical       Nominal               N/A\n",
      "2     CDs   Categorical       Nominal               N/A\n",
      "3  Height  Quantitative    Continuous               N/A\n",
      "4  EarPrc  Quantitative      Discrete               N/A\n"
     ]
    }
   ],
   "source": [
    "import pandas as pd\n",
    "\n",
    "penn = pd.read_excel(\"pennstate2 Fall23.xlsx\")\n",
    "def classify_variable(series):\n",
    "    if series.dtype == 'object':\n",
    "        return \"Categorical\", \"Nominal\"\n",
    "    elif series.dtype in ['int64', 'float64']:\n",
    "        unique_values = series.nunique()\n",
    "        if unique_values == len(series):  \n",
    "            return \"Quantitative\", \"Identifier\"\n",
    "        elif series.dtype == 'int64':\n",
    "            return \"Quantitative\", \"Discrete\"\n",
    "        else:\n",
    "            return \"Quantitative\", \"Continuous\"\n",
    "    else:\n",
    "        return \"Unknown\", \"Unknown\"\n",
    "\n",
    "# Create the table\n",
    "variable_table = []\n",
    "\n",
    "for col in penn.columns:\n",
    "    general_type, specific_type = classify_variable(penn[col])\n",
    "    measurement_units = \"N/A\"  # Adjust if units are available\n",
    "    variable_table.append([col, general_type, specific_type, measurement_units])\n",
    "\n",
    "# Convert to DataFrame\n",
    "variable_df = pd.DataFrame(variable_table, columns=[\"Label\", \"General Type\", \"Specific Type\", \"Measurement Units\"])\n",
    "\n",
    "# Display the table\n",
    "print(variable_df)\n",
    "\n",
    "# Save the table as a CSV file\n",
    "variable_df.to_csv('variable_table.csv', index=False)\n"
   ]
  },
  {
   "cell_type": "code",
   "execution_count": 43,
   "id": "e1a1f39a-2f81-4448-a38a-607457f4699f",
   "metadata": {},
   "outputs": [],
   "source": [
    "#2\n",
    "\n",
    "# for quantitative histogram and boxplot and explain why the mean or the median\n",
    "#is the best representation of central tendency and the standard deviation or IQR of dispersion.\n",
    "# appropriate measures and state the associated values from the descriptive statistics table."
   ]
  },
  {
   "cell_type": "code",
   "execution_count": 67,
   "id": "96ff8bcf-e1cc-4c42-9fb3-8571cac6d0a4",
   "metadata": {},
   "outputs": [
    {
     "data": {
      "text/html": [
       "<div>\n",
       "<style scoped>\n",
       "    .dataframe tbody tr th:only-of-type {\n",
       "        vertical-align: middle;\n",
       "    }\n",
       "\n",
       "    .dataframe tbody tr th {\n",
       "        vertical-align: top;\n",
       "    }\n",
       "\n",
       "    .dataframe thead th {\n",
       "        text-align: right;\n",
       "    }\n",
       "</style>\n",
       "<table border=\"1\" class=\"dataframe\">\n",
       "  <thead>\n",
       "    <tr style=\"text-align: right;\">\n",
       "      <th></th>\n",
       "      <th>Gender</th>\n",
       "      <th>Tattoo</th>\n",
       "      <th>CDs</th>\n",
       "      <th>Height</th>\n",
       "      <th>EarPrc</th>\n",
       "    </tr>\n",
       "  </thead>\n",
       "  <tbody>\n",
       "    <tr>\n",
       "      <th>count</th>\n",
       "      <td>200</td>\n",
       "      <td>200</td>\n",
       "      <td>200</td>\n",
       "      <td>200.000000</td>\n",
       "      <td>200.000000</td>\n",
       "    </tr>\n",
       "    <tr>\n",
       "      <th>unique</th>\n",
       "      <td>2</td>\n",
       "      <td>2</td>\n",
       "      <td>3</td>\n",
       "      <td>NaN</td>\n",
       "      <td>NaN</td>\n",
       "    </tr>\n",
       "    <tr>\n",
       "      <th>top</th>\n",
       "      <td>Female</td>\n",
       "      <td>No</td>\n",
       "      <td>BelowAvg</td>\n",
       "      <td>NaN</td>\n",
       "      <td>NaN</td>\n",
       "    </tr>\n",
       "    <tr>\n",
       "      <th>freq</th>\n",
       "      <td>135</td>\n",
       "      <td>170</td>\n",
       "      <td>73</td>\n",
       "      <td>NaN</td>\n",
       "      <td>NaN</td>\n",
       "    </tr>\n",
       "    <tr>\n",
       "      <th>mean</th>\n",
       "      <td>NaN</td>\n",
       "      <td>NaN</td>\n",
       "      <td>NaN</td>\n",
       "      <td>67.028750</td>\n",
       "      <td>2.795000</td>\n",
       "    </tr>\n",
       "    <tr>\n",
       "      <th>std</th>\n",
       "      <td>NaN</td>\n",
       "      <td>NaN</td>\n",
       "      <td>NaN</td>\n",
       "      <td>3.823294</td>\n",
       "      <td>2.437763</td>\n",
       "    </tr>\n",
       "    <tr>\n",
       "      <th>min</th>\n",
       "      <td>NaN</td>\n",
       "      <td>NaN</td>\n",
       "      <td>NaN</td>\n",
       "      <td>60.000000</td>\n",
       "      <td>0.000000</td>\n",
       "    </tr>\n",
       "    <tr>\n",
       "      <th>25%</th>\n",
       "      <td>NaN</td>\n",
       "      <td>NaN</td>\n",
       "      <td>NaN</td>\n",
       "      <td>64.000000</td>\n",
       "      <td>0.000000</td>\n",
       "    </tr>\n",
       "    <tr>\n",
       "      <th>50%</th>\n",
       "      <td>NaN</td>\n",
       "      <td>NaN</td>\n",
       "      <td>NaN</td>\n",
       "      <td>66.500000</td>\n",
       "      <td>2.000000</td>\n",
       "    </tr>\n",
       "    <tr>\n",
       "      <th>75%</th>\n",
       "      <td>NaN</td>\n",
       "      <td>NaN</td>\n",
       "      <td>NaN</td>\n",
       "      <td>70.000000</td>\n",
       "      <td>4.000000</td>\n",
       "    </tr>\n",
       "    <tr>\n",
       "      <th>max</th>\n",
       "      <td>NaN</td>\n",
       "      <td>NaN</td>\n",
       "      <td>NaN</td>\n",
       "      <td>77.000000</td>\n",
       "      <td>13.000000</td>\n",
       "    </tr>\n",
       "  </tbody>\n",
       "</table>\n",
       "</div>"
      ],
      "text/plain": [
       "        Gender Tattoo       CDs      Height      EarPrc\n",
       "count      200    200       200  200.000000  200.000000\n",
       "unique       2      2         3         NaN         NaN\n",
       "top     Female     No  BelowAvg         NaN         NaN\n",
       "freq       135    170        73         NaN         NaN\n",
       "mean       NaN    NaN       NaN   67.028750    2.795000\n",
       "std        NaN    NaN       NaN    3.823294    2.437763\n",
       "min        NaN    NaN       NaN   60.000000    0.000000\n",
       "25%        NaN    NaN       NaN   64.000000    0.000000\n",
       "50%        NaN    NaN       NaN   66.500000    2.000000\n",
       "75%        NaN    NaN       NaN   70.000000    4.000000\n",
       "max        NaN    NaN       NaN   77.000000   13.000000"
      ]
     },
     "execution_count": 67,
     "metadata": {},
     "output_type": "execute_result"
    }
   ],
   "source": [
    "# five variable summary\n",
    "penn.describe(include = 'all')\n"
   ]
  },
  {
   "cell_type": "code",
   "execution_count": 61,
   "id": "a182b6d7-e8f8-45bc-ae01-b9b717c9f02f",
   "metadata": {},
   "outputs": [
    {
     "name": "stdout",
     "output_type": "stream",
     "text": [
      "col_0   counts\n",
      "Gender        \n",
      "Female     135\n",
      "Male        65\n",
      "\n",
      "Counts:\n",
      "Gender\n",
      "Female    135\n",
      "Male       65\n",
      "Name: count, dtype: int64\n",
      "\n",
      "Relative Frequencies:\n",
      "col_0   counts\n",
      "Gender        \n",
      "Female   0.675\n",
      "Male     0.325\n",
      "\n",
      "Percentages\n",
      "col_0   counts\n",
      "Gender        \n",
      "Female    67.5\n",
      "Male      32.5\n"
     ]
    }
   ],
   "source": [
    "#for qualitative make frequency table and a discussion of the mode\n",
    "#G\n",
    "my_tab = pd.crosstab(index=penn[\"Gender\"], columns= \"counts\")\n",
    "print(my_tab)\n",
    "print()\n",
    "print(\"Counts:\")\n",
    "print(penn[\"Gender\"].value_counts())\n",
    "print()\n",
    "#Relative Frequency\n",
    "print(\"Relative Frequencies:\")\n",
    "print(my_tab/my_tab.sum())\n",
    "print()\n",
    "#Percentages\n",
    "print(\"Percentages\")\n",
    "print(my_tab/my_tab.sum()*100)"
   ]
  },
  {
   "cell_type": "code",
   "execution_count": 63,
   "id": "fedcdf70-9b2c-41d7-b39d-c65ba8ae124e",
   "metadata": {},
   "outputs": [
    {
     "name": "stdout",
     "output_type": "stream",
     "text": [
      "col_0   counts\n",
      "Tattoo        \n",
      "No         170\n",
      "Yes         30\n",
      "\n",
      "Counts:\n",
      "Tattoo\n",
      "No     170\n",
      "Yes     30\n",
      "Name: count, dtype: int64\n",
      "\n",
      "Relative Frequencies:\n",
      "col_0   counts\n",
      "Tattoo        \n",
      "No        0.85\n",
      "Yes       0.15\n",
      "\n",
      "Percentages\n",
      "col_0   counts\n",
      "Tattoo        \n",
      "No        85.0\n",
      "Yes       15.0\n"
     ]
    }
   ],
   "source": [
    "my_tab2 = pd.crosstab(index=penn[\"Tattoo\"], columns= \"counts\")\n",
    "#TATTOOS\n",
    "print(my_tab2)\n",
    "print()\n",
    "print(\"Counts:\")\n",
    "print(penn[\"Tattoo\"].value_counts())\n",
    "print()\n",
    "#Relative Frequency\n",
    "print(\"Relative Frequencies:\")\n",
    "print(my_tab2/my_tab2.sum())\n",
    "print()\n",
    "#Percentages\n",
    "print(\"Percentages\")\n",
    "print(my_tab2/my_tab2.sum()*100)"
   ]
  },
  {
   "cell_type": "code",
   "execution_count": 65,
   "id": "69024e49-a787-4c47-b88e-d256c5ddf398",
   "metadata": {},
   "outputs": [
    {
     "name": "stdout",
     "output_type": "stream",
     "text": [
      "col_0     counts\n",
      "CDs             \n",
      "AboveAvg      58\n",
      "Average       69\n",
      "BelowAvg      73\n",
      "\n",
      "Counts:\n",
      "CDs\n",
      "BelowAvg    73\n",
      "Average     69\n",
      "AboveAvg    58\n",
      "Name: count, dtype: int64\n",
      "\n",
      "Relative Frequencies:\n",
      "col_0     counts\n",
      "CDs             \n",
      "AboveAvg   0.290\n",
      "Average    0.345\n",
      "BelowAvg   0.365\n",
      "\n",
      "Percentages\n",
      "col_0     counts\n",
      "CDs             \n",
      "AboveAvg    29.0\n",
      "Average     34.5\n",
      "BelowAvg    36.5\n"
     ]
    }
   ],
   "source": [
    "my_tab3 = pd.crosstab(index=penn[\"CDs\"], columns= \"counts\")\n",
    "#CDs\n",
    "print(my_tab3)\n",
    "print()\n",
    "print(\"Counts:\")\n",
    "print(penn[\"CDs\"].value_counts())\n",
    "print()\n",
    "#Relative Frequency\n",
    "print(\"Relative Frequencies:\")\n",
    "print(my_tab3/my_tab3.sum())\n",
    "print()\n",
    "#Percentages\n",
    "print(\"Percentages\")\n",
    "print(my_tab3/my_tab3.sum()*100)"
   ]
  },
  {
   "cell_type": "code",
   "execution_count": null,
   "id": "98a9e06d-34a7-4249-9cf4-58c62110f53d",
   "metadata": {},
   "outputs": [],
   "source": [
    "# for quantitative histogram and boxplot and explain why the mean or the median\n",
    "#is the best representation of central tendency and the standard deviation or IQR of dispersion.\n",
    "# appropriate measures and state the associated values from the descriptive statistics table."
   ]
  },
  {
   "cell_type": "code",
   "execution_count": 73,
   "id": "94ae5bc5-4148-423c-b546-fbd9b7b4dd5b",
   "metadata": {},
   "outputs": [],
   "source": [
    "#Hisogram\n",
    "import matplotlib.pyplot as plt\n",
    "import numpy as np"
   ]
  },
  {
   "cell_type": "code",
   "execution_count": 84,
   "id": "842d726b-5de3-47e5-8b6b-e4a0dbfaa5c2",
   "metadata": {},
   "outputs": [
    {
     "data": {
      "image/png": "[encoded data removed]",
      "text/plain": [
       "<Figure size 640x480 with 1 Axes>"
      ]
     },
     "metadata": {},
     "output_type": "display_data"
    }
   ],
   "source": [
    "# Height\n",
    "plt.hist(penn[\"Height\"], color = \"blue\", edgecolor = \"black\")\n",
    "plt.xlabel(\"Height\")\n",
    "plt.ylabel(\"Number of People\")\n",
    "plt.xticks(range(60, 90, 10))\n",
    "plt.yticks(range(0, 75, 25))\n",
    "plt.title(\"Histogram Height\")\n",
    "plt.show()\n",
    "          \n"
   ]
  },
  {
   "cell_type": "code",
   "execution_count": 100,
   "id": "efed6265-1595-4b05-b646-5faca535e50b",
   "metadata": {},
   "outputs": [
    {
     "data": {
      "image/png": "[encoded data removed]",
      "text/plain": [
       "<Figure size 640x480 with 1 Axes>"
      ]
     },
     "metadata": {},
     "output_type": "display_data"
    }
   ],
   "source": [
    "#BoxPlot\n",
    "plt.boxplot(penn['Height'], \n",
    "            showmeans = True, \n",
    "            vert = False, \n",
    "            meanprops = {\"marker\":\".\", \"markerfacecolor\":\"purple\", \"markeredgecolor\":\"purple\"})\n",
    "plt.xlabel(\"Height\")\n",
    "plt.title(\"Boxplot of Height\")\n",
    "plt.show()"
   ]
  },
  {
   "cell_type": "code",
   "execution_count": 90,
   "id": "eb3848d6-2b27-46c8-b48d-7a64680a4b95",
   "metadata": {},
   "outputs": [
    {
     "data": {
      "image/png": "[encoded data removed]",
      "text/plain": [
       "<Figure size 640x480 with 1 Axes>"
      ]
     },
     "metadata": {},
     "output_type": "display_data"
    }
   ],
   "source": [
    "# EarPrc\n",
    "plt.hist(penn[\"EarPrc\"], color = \"red\", edgecolor = \"black\")\n",
    "plt.xlabel(\"Piercings\")\n",
    "plt.ylabel(\"Number of piercings\")\n",
    "plt.xticks(range(0, 15, 1))\n",
    "plt.yticks(range(0, 75, 10))\n",
    "plt.title(\"Histogram EarPrc\")\n",
    "plt.show()\n",
    "          "
   ]
  },
  {
   "cell_type": "code",
   "execution_count": 102,
   "id": "dd1ef85a-ffdd-4372-bf80-4bc2069838e0",
   "metadata": {},
   "outputs": [
    {
     "data": {
      "image/png": "[encoded data removed]",
      "text/plain": [
       "<Figure size 640x480 with 1 Axes>"
      ]
     },
     "metadata": {},
     "output_type": "display_data"
    }
   ],
   "source": [
    "plt.boxplot(penn['EarPrc'], \n",
    "            showmeans = True, \n",
    "            vert = False, \n",
    "            meanprops = {\"marker\":\".\", \"markerfacecolor\":\"green\", \"markeredgecolor\":\"green\"})\n",
    "plt.xlabel(\"Number of piercings\")\n",
    "plt.title(\"Boxplot of EarPrc\")\n",
    "plt.show()"
   ]
  },
  {
   "cell_type": "code",
   "execution_count": null,
   "id": "d22ad542-e9e5-4716-8e42-cbcb074568b6",
   "metadata": {},
   "outputs": [],
   "source": [
    "# 3"
   ]
  },
  {
   "cell_type": "code",
   "execution_count": 106,
   "id": "6d6b9b45-fc54-4583-89f4-778b611c84ad",
   "metadata": {},
   "outputs": [
    {
     "name": "stdout",
     "output_type": "stream",
     "text": [
      "          EarPrc     Height\n",
      "Tattoo                     \n",
      "No      2.576471  66.869118\n",
      "Yes     4.033333  67.933333\n"
     ]
    }
   ],
   "source": [
    "tattoo_status_analysis = penn.groupby('Tattoo')[['EarPrc', 'Height']].mean()\n",
    "print(tattoo_status_analysis)"
   ]
  },
  {
   "cell_type": "code",
   "execution_count": null,
   "id": "f4054bee-9490-4bef-ad16-8a36f735770e",
   "metadata": {},
   "outputs": [],
   "source": [
    "#4"
   ]
  },
  {
   "cell_type": "code",
   "execution_count": 112,
   "id": "9fbc7e32-2f9c-48e6-9ca4-fb1883d16d0a",
   "metadata": {},
   "outputs": [
    {
     "name": "stdout",
     "output_type": "stream",
     "text": [
      "          sum      mean\n",
      "CDs                    \n",
      "AboveAvg  136  2.344828\n",
      "Average   201  2.913043\n",
      "BelowAvg  222  3.041096\n"
     ]
    }
   ],
   "source": [
    "EarPrc_status_analysis = penn.groupby(\"CDs\")[\"EarPrc\"].agg(['sum', 'mean'])\n",
    "print(EarPrc_status_analysis)"
   ]
  },
  {
   "cell_type": "code",
   "execution_count": null,
   "id": "cac6acc5-818d-48b3-ac0d-2a0197651ca1",
   "metadata": {},
   "outputs": [],
   "source": [
    "#5 contingency table of Tattoo by CDs"
   ]
  },
  {
   "cell_type": "code",
   "execution_count": 114,
   "id": "30421de9-bf42-4fc2-bad2-60e584869689",
   "metadata": {},
   "outputs": [
    {
     "name": "stdout",
     "output_type": "stream",
     "text": [
      "Frequency Counts:\n",
      "CDs     AboveAvg  Average  BelowAvg\n",
      "Tattoo                             \n",
      "No            48       57        65\n",
      "Yes           10       12         8\n",
      "\n",
      "Row Percentages:\n",
      "CDs      AboveAvg    Average   BelowAvg\n",
      "Tattoo                                 \n",
      "No      28.235294  33.529412  38.235294\n",
      "Yes     33.333333  40.000000  26.666667\n",
      "\n",
      "Column Percentages:\n",
      "CDs      AboveAvg    Average   BelowAvg\n",
      "Tattoo                                 \n",
      "No      82.758621  82.608696  89.041096\n",
      "Yes     17.241379  17.391304  10.958904\n",
      "\n",
      "Total Percentages:\n",
      "CDs     AboveAvg  Average  BelowAvg\n",
      "Tattoo                             \n",
      "No          24.0     28.5      32.5\n",
      "Yes          5.0      6.0       4.0\n"
     ]
    }
   ],
   "source": [
    "\n",
    "contingency_table = pd.crosstab(index=penn['Tattoo'], columns=penn['CDs'])\n",
    "\n",
    "\n",
    "print(\"Frequency Counts:\")\n",
    "print(contingency_table)\n",
    "print()\n",
    "\n",
    "row_percentages = contingency_table.div(contingency_table.sum(axis=1), axis=0) * 100\n",
    "print(\"Row Percentages:\")\n",
    "print(row_percentages)\n",
    "print()\n",
    "\n",
    "column_percentages = contingency_table.div(contingency_table.sum(axis=0), axis=1) * 100\n",
    "print(\"Column Percentages:\")\n",
    "print(column_percentages)\n",
    "print()\n",
    "\n",
    "total_percentages = contingency_table.div(contingency_table.sum().sum()) * 100\n",
    "print(\"Total Percentages:\")\n",
    "print(total_percentages)\n"
   ]
  },
  {
   "cell_type": "code",
   "execution_count": null,
   "id": "bd66b8c4-ea27-4d61-9e45-ed209e241ddf",
   "metadata": {},
   "outputs": [],
   "source": [
    "# 6"
   ]
  },
  {
   "cell_type": "code",
   "execution_count": 132,
   "id": "6575bcbb-5da4-4ff1-9b08-4594fb7325c4",
   "metadata": {},
   "outputs": [
    {
     "data": {
      "image/png": "[encoded data removed]",
      "text/plain": [
       "<Figure size 640x480 with 1 Axes>"
      ]
     },
     "metadata": {},
     "output_type": "display_data"
    }
   ],
   "source": [
    "Yes = contingency_table.loc['Yes']  \n",
    "No = contingency_table.loc['No']   \n",
    "bars = np.add(Yes.T, No.T).tolist()\n",
    "r = [0,1,2]\n",
    "names = [\"AboveAvg\", \"Average\", 'BelowAvg']\n",
    "barwith = 0.8\n",
    "plt.bar(r, Yes, bottom=No, color= 'Pink' , edgecolor=\"black\", width=0.8)\n",
    "plt.bar(r, No, color= \"yellow\", edgecolor=\"black\", width=0.8)\n",
    "plt.ylabel('Tattoos')\n",
    "plt.xticks(r, names)\n",
    "plt.ylim(0,80)\n",
    "plt.xlabel(\"CDs\")\n",
    "plt.legend(\"Stacked Bar Chart of Frequency Counts\")\n",
    "plt.show()"
   ]
  },
  {
   "cell_type": "code",
   "execution_count": 146,
   "id": "d4c5318c-15ea-4c0c-8b34-7553760bef58",
   "metadata": {},
   "outputs": [
    {
     "data": {
      "image/png": "[encoded data removed]",
      "text/plain": [
       "<Figure size 640x480 with 1 Axes>"
      ]
     },
     "metadata": {},
     "output_type": "display_data"
    }
   ],
   "source": [
    "labels = [\"AboveAvg\" , \"Average CDs\", \"BelowAvg\"]\n",
    "Yes = [10, 12, 8]\n",
    "No = [48, 57, 65]\n",
    "total= np.array(Yes) + np.array(No)\n",
    "yes_percentage = Yes / total.astype(float)*100\n",
    "no_percentage = No / total.astype(float)*100\n",
    "fig, ax = plt.subplots()\n",
    "ax.bar(labels, yes_percentage, bottom = no_percentage, label = 'Yes')\n",
    "ax.bar(labels, no_percentage, label = 'No')\n",
    "ax.set_xlabel( \"CDs\")\n",
    "ax.set_ylabel( \"Tattoos\")\n",
    "ax.set_title('100% stacked bar chart')\n",
    "ax.legend()\n",
    "plt.show()"
   ]
  },
  {
   "cell_type": "code",
   "execution_count": null,
   "id": "bd01c1b0-5f28-46f1-aea1-9ff8519358dd",
   "metadata": {},
   "outputs": [],
   "source": [
    "#7"
   ]
  },
  {
   "cell_type": "code",
   "execution_count": 152,
   "id": "423e6e0c-50f3-4269-8959-c757e508f2c4",
   "metadata": {},
   "outputs": [
    {
     "name": "stdout",
     "output_type": "stream",
     "text": [
      "col_0     Count\n",
      "CDs            \n",
      "AboveAvg     58\n",
      "Average      69\n",
      "BelowAvg     73\n"
     ]
    },
    {
     "data": {
      "image/png": "[encoded data removed]",
      "text/plain": [
       "<Figure size 640x480 with 1 Axes>"
      ]
     },
     "metadata": {},
     "output_type": "display_data"
    }
   ],
   "source": [
    "my_tab = pd.crosstab(index = penn[\"CDs\"], columns = \"Count\")\n",
    "print(my_tab)\n",
    "piefill = ('grey', 'darkgrey', 'navy',)\n",
    "plt.pie(my_tab.values.reshape(-1), colors = piefill, autopct = '%1.1f%%') # format percentages \n",
    "plt.legend(['AboveAvg','Adverage','BelowAvg'])\n",
    "plt.title(\"CDs Pie Chart\")\n",
    "plt.show()\n"
   ]
  },
  {
   "cell_type": "code",
   "execution_count": 166,
   "id": "76e0b1fd-cccb-47cc-ac8c-bcaca056aaf1",
   "metadata": {},
   "outputs": [
    {
     "data": {
      "image/png": "[encoded data removed]",
      "text/plain": [
       "<Figure size 640x480 with 1 Axes>"
      ]
     },
     "metadata": {},
     "output_type": "display_data"
    }
   ],
   "source": [
    "name = [\"AboveAvg\", \"Average\", \"BelowAvg\", ]\n",
    "freq = [58, 69, 73]\n",
    "plt.bar(name, freq, color= \"cyan\")\n",
    "plt.xlabel(\"CDs types\")\n",
    "plt.ylabel(\" Count\")\n",
    "plt.title(\"Bar Chart for CDs\")\n",
    "plt.show()"
   ]
  },
  {
   "cell_type": "code",
   "execution_count": null,
   "id": "3ec169d4-fb18-49f7-a6a1-57b32188633d",
   "metadata": {},
   "outputs": [],
   "source": [
    "#8"
   ]
  },
  {
   "cell_type": "code",
   "execution_count": 184,
   "id": "06ad54e4-652a-4b00-81e2-bd3b7cf6dda6",
   "metadata": {},
   "outputs": [
    {
     "name": "stdout",
     "output_type": "stream",
     "text": [
      "  Confidence Level  Lower Bound  Upper Bound\n",
      "0              90%     2.988041     4.631959\n",
      "1              95%     2.825773     4.794227\n",
      "2              99%     2.500764     5.119236\n",
      "\n",
      "95% Confidence Interval Interpretation:\n",
      "The 95% confidence interval for the mean height is (2.83, 4.79).\n",
      "This means we are 95% confident that the true mean height of the population lies within this range.\n"
     ]
    }
   ],
   "source": [
    "\n",
    "mean_height = round(np.std(penn['Height']), 2)  # Sample mean\n",
    "std_dev_height =round(np.std(penn['Height']), 2) # Sample standard deviation\n",
    "n = 60  # Sample size\n",
    "\n",
    "std_error = std_dev_height / np.sqrt(n)\n",
    "\n",
    "df = n - 1\n",
    "\n",
    "t_90 = stats.t.ppf(0.95, df)  # 90% CI\n",
    "t_95 = stats.t.ppf(0.975, df)  # 95% CI\n",
    "t_99 = stats.t.ppf(0.995, df)  # 99% CI\n",
    "\n",
    "ci_90 = (mean_height - t_90 * std_error, mean_height + t_90 * std_error)\n",
    "ci_95 = (mean_height - t_95 * std_error, mean_height + t_95 * std_error)\n",
    "ci_99 = (mean_height - t_99 * std_error, mean_height + t_99 * std_error)\n",
    "\n",
    "confidence_intervals = pd.DataFrame({\n",
    "    'Confidence Level': ['90%', '95%', '99%'],\n",
    "    'Lower Bound': [ci_90[0], ci_95[0], ci_99[0]],\n",
    "    'Upper Bound': [ci_90[1], ci_95[1], ci_99[1]]\n",
    "})\n",
    "\n",
    "print(confidence_intervals)\n",
    "\n",
    "# Step 6: Interpretation of the 95% Confidence Interval\n",
    "print(\"\\n95% Confidence Interval Interpretation:\")\n",
    "print(\"The 95% confidence interval for the mean height is (\" + str(round(ci_95[0], 2)) + \", \" + str(round(ci_95[1], 2)) + \").\")\n",
    "print(\"This means we are 95% confident that the true mean height of the population lies within this range.\")\n"
   ]
  },
  {
   "cell_type": "code",
   "execution_count": null,
   "id": "8bfb2505-d8e4-481a-ad2c-f21b87767624",
   "metadata": {},
   "outputs": [],
   "source": []
  },
  {
   "cell_type": "code",
   "execution_count": 190,
   "id": "9a964200-6faa-4245-b0ed-dba756e554c7",
   "metadata": {},
   "outputs": [
    {
     "data": {
      "image/png": "[encoded data removed]",
      "text/plain": [
       "<Figure size 640x480 with 1 Axes>"
      ]
     },
     "metadata": {},
     "output_type": "display_data"
    }
   ],
   "source": [
    "x = penn[\"Height\"]\n",
    "y = penn[\"EarPrc\"]\n",
    "m, b = np.polyfit(x, y, 1) # 1 means straight line (1st degree polynomial)\n",
    "plt.figure()\n",
    "plt.scatter(x, y)\n",
    "plt.plot(x, m*x+b, color = 'red') # y = mx + b\n",
    "plt.show()\n",
    "    "
   ]
  },
  {
   "cell_type": "code",
   "execution_count": null,
   "id": "1eec26a8-6b83-4ba5-b0a7-de3d52e114e2",
   "metadata": {},
   "outputs": [],
   "source": []
  }
 ],
 "metadata": {
  "kernelspec": {
   "display_name": "Python 3 (ipykernel)",
   "language": "python",
   "name": "python3"
  },
  "language_info": {
   "codemirror_mode": {
    "name": "ipython",
    "version": 3
   },
   "file_extension": ".py",
   "mimetype": "text/x-python",
   "name": "python",
   "nbconvert_exporter": "python",
   "pygments_lexer": "ipython3",
   "version": "3.12.7"
  }
 },
 "nbformat": 4,
 "nbformat_minor": 5
}
